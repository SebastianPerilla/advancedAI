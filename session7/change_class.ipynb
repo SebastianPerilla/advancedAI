{
 "cells": [
  {
   "cell_type": "code",
   "execution_count": 9,
   "id": "bbfb107f-025b-4896-85d1-c5a6ca32765c",
   "metadata": {},
   "outputs": [],
   "source": [
    "import os\n",
    "\n",
    "folder = \"fox_and_wolves/fox_and_wolves/valid/labels\""
   ]
  },
  {
   "cell_type": "code",
   "execution_count": 10,
   "id": "7b349369-ce30-4548-87fb-9715e51939a2",
   "metadata": {},
   "outputs": [
    {
     "name": "stdout",
     "output_type": "stream",
     "text": [
      "✅ All label files updated from class 0 to 1.\n"
     ]
    }
   ],
   "source": [
    "for filename in os.listdir(folder):\n",
    "    if filename.endswith('.txt'):\n",
    "        file_path = os.path.join(folder, filename)\n",
    "\n",
    "        # Read the file\n",
    "        with open(file_path, 'r') as f:\n",
    "            lines = f.readlines()\n",
    "\n",
    "        # Replace the first number (class id) on each line with 80\n",
    "        new_lines = []\n",
    "        for line in lines:\n",
    "            parts = line.strip().split()\n",
    "            if parts:  # avoid empty lines\n",
    "                parts[0] = '1'\n",
    "                new_lines.append(' '.join(parts) + '\\n')\n",
    "\n",
    "        # Write the file back\n",
    "        with open(file_path, 'w') as f:\n",
    "            f.writelines(new_lines)\n",
    "\n",
    "print(\"✅ All label files updated from class 0 to 1.\")"
   ]
  }
 ],
 "metadata": {
  "kernelspec": {
   "display_name": "YOLO",
   "language": "python",
   "name": "yolo"
  },
  "language_info": {
   "codemirror_mode": {
    "name": "ipython",
    "version": 3
   },
   "file_extension": ".py",
   "mimetype": "text/x-python",
   "name": "python",
   "nbconvert_exporter": "python",
   "pygments_lexer": "ipython3",
   "version": "3.10.18"
  }
 },
 "nbformat": 4,
 "nbformat_minor": 5
}
