{
 "cells": [
  {
   "cell_type": "markdown",
   "id": "33ad6d93-3441-4313-b2b0-f26783d55061",
   "metadata": {},
   "source": [
    "<p style=\"color:#050166; text-align:center; font-size:36px; font-weight:bold;\">\n",
    "Session #4- Computer vision with Deep Learning\n",
    "</p>\n",
    "\n",
    "    "
   ]
  },
  {
   "cell_type": "markdown",
   "id": "f79fff0b-6c13-4967-a592-49e128db9454",
   "metadata": {},
   "source": [
    "<p style=\"color:#6ABCF9; text-align:center; font-size:36px; font-weight:bold;\">\n",
    "Advanced AI\n",
    "</p>"
   ]
  },
  {
   "cell_type": "markdown",
   "id": "f80780c8-f1a8-469f-90f4-07602579641a",
   "metadata": {},
   "source": [
    "<p style=\"text-align:center;\">\n",
    "  <img src=\"Captura de pantalla 2025-08-27 a las 21.22.58.png\" alt=\"my image\" width=\"120\" height=\"80\">\n",
    "</p>"
   ]
  },
  {
   "cell_type": "markdown",
   "id": "43911359-d741-4731-bc93-021fe830bac2",
   "metadata": {},
   "source": [
    "***<p style=\"text-align: center;\">Prof. Beatriz Blanc</p>***\n",
    "***<p style=\"text-align: center;\">bblanc@faculty.ie.edu</p>***"
   ]
  },
  {
   "cell_type": "markdown",
   "id": "0b0d9f49-345b-47da-9f2e-aa452591b454",
   "metadata": {},
   "source": [
    "***"
   ]
  },
  {
   "cell_type": "markdown",
   "id": "ba00734f-6260-4602-b9e0-b16284c8becd",
   "metadata": {},
   "source": [
    "### This session covers:\n",
    "\n",
    "1. What is computer vision?\n",
    "2. Computer vision applications\n",
    "3. Image classification\n",
    "    1. CNNs architecture\n",
    "    2. Build our own image classifier\n",
    "    3. Pre-trained models\n"
   ]
  },
  {
   "cell_type": "markdown",
   "id": "a4f75b44-88ba-4df7-837c-34492543016d",
   "metadata": {},
   "source": [
    "***"
   ]
  },
  {
   "cell_type": "markdown",
   "id": "f7064d6f-1f81-4634-a0b9-4644b9e70f2e",
   "metadata": {},
   "source": [
    "### 3.C. Pre-trained models"
   ]
  },
  {
   "cell_type": "markdown",
   "id": "f3cc5ef6-1341-4216-a2b0-f1d269f16225",
   "metadata": {},
   "source": [
    "In this notebook we are going to use some pre-trained models to classify different datasets of images."
   ]
  },
  {
   "cell_type": "markdown",
   "id": "7392b29d-a9d6-4204-be0b-85bd73eef332",
   "metadata": {},
   "source": [
    "In practice, very few people train an entire CNN from scratch (with random initialization), because it is relatively rare to have a dataset of sufficient size. Instead, it is common to pretrain a CNN on a very large dataset (e.g. ImageNet, which contains 1.2 million images with 1000 categories), and then use the CNN either as an initialization or a fixed feature extractor for the task of interest."
   ]
  },
  {
   "cell_type": "markdown",
   "id": "5253f268-0111-40e5-bfe3-21736ac318bc",
   "metadata": {},
   "source": [
    "The three major **transfer learning** scenarios look as follows:\n",
    "\n",
    "**CNN as fixed feature extractor**. Take a CNN pretrained on ImageNet, remove the last fully-connected layer (this layer’s outputs are the 1000 class scores for a different task like ImageNet), then treat the rest of the CNN as a fixed feature extractor for the new dataset. <br>\n",
    "**Fine-tuning the CNN**. The second strategy is to not only replace and retrain the classifier on top of the CNN on the new dataset, but to also fine-tune the weights of the pretrained network by continuing the backpropagation. It is possible to fine-tune all the layers of the CNN, or it’s possible to keep some of the earlier layers fixed (due to overfitting concerns) and only fine-tune some higher-level portion of the network. This is motivated by the observation that the earlier features of a CNN contain more generic features (e.g. edge detectors or color blob detectors) that should be useful to many tasks, but later layers of the CNN becomes progressively more specific to the details of the classes contained in the original dataset. In case of ImageNet for example, which contains many dog breeds, a significant portion of the representational power of the ConvNet may be devoted to features that are specific to differentiating between dog breeds.<br>\n",
    "**Pretrained models**. Since modern CNNs take 2-3 weeks to train across multiple GPUs on ImageNet, it is common to see people release their final CNN checkpoints for the benefit of others who can use the networks for fine-tuning. For example, the Caffe library has a Model Zoo where people share their network weights.\n"
   ]
  },
  {
   "cell_type": "markdown",
   "id": "a18f9e6b-9201-40a7-adee-c57b3a1d8505",
   "metadata": {},
   "source": [
    "<small> Source: CS231n Deep Learning for Computer Vision"
   ]
  },
  {
   "cell_type": "markdown",
   "id": "62415fd5-a5cb-47ec-90d6-6d4c01c43658",
   "metadata": {},
   "source": [
    "***"
   ]
  },
  {
   "cell_type": "markdown",
   "id": "8ad2ce65-c00a-4b17-bbe2-8a32ae340e22",
   "metadata": {},
   "source": [
    "### Classification of ants and bees"
   ]
  },
  {
   "cell_type": "markdown",
   "id": "8d2e0d9a-42e8-43bf-8aae-a3e88addf462",
   "metadata": {},
   "source": [
    "The problem we’re going to solve today is to train a model to classify ants and bees. We have about 120 training images each for ants and bees. There are 75 validation images for each class. Usually, this is a very small dataset to generalize upon, if trained from scratch. Since we are using transfer learning, we should be able to generalize reasonably well."
   ]
  },
  {
   "cell_type": "markdown",
   "id": "b5071140-e725-42e4-900d-f9cc7e132378",
   "metadata": {},
   "source": [
    "This dataset is a very small subset of imagenet."
   ]
  },
  {
   "cell_type": "markdown",
   "id": "28383a9d-e4bf-4c3e-8f75-ab22724bca2c",
   "metadata": {},
   "source": [
    "Download the data from [here](https://download.pytorch.org/tutorial/hymenoptera_data.zip) and extract it to the current directory."
   ]
  },
  {
   "cell_type": "markdown",
   "id": "113e68cf-a280-4fda-ba48-23b8a9ab7ab7",
   "metadata": {},
   "source": [
    "#### Import libraries"
   ]
  },
  {
   "cell_type": "code",
   "execution_count": 39,
   "id": "7d8c66f7-0e3b-4790-9c43-0a1b13799b53",
   "metadata": {},
   "outputs": [],
   "source": [
    "import torch\n",
    "import torch.nn as nn\n",
    "import torch.optim as optim\n",
    "from torch.optim import lr_scheduler\n",
    "\n",
    "import torchvision\n",
    "from torchvision import datasets, models, transforms\n",
    "from torch.utils.data import DataLoader\n",
    "\n",
    "import numpy as np\n",
    "import matplotlib.pyplot as plt\n",
    "import time\n",
    "import os\n",
    "from PIL import Image\n",
    "from tempfile import TemporaryDirectory"
   ]
  },
  {
   "cell_type": "markdown",
   "id": "a99f7bdd-5938-4623-b556-0df049faedf8",
   "metadata": {},
   "source": [
    "As we normally do, to speed up the training process we'll try to run everythin in the GPU (if available)"
   ]
  },
  {
   "cell_type": "code",
   "execution_count": 40,
   "id": "3a9ac691-5e9d-4082-b384-b420c3d6e598",
   "metadata": {},
   "outputs": [
    {
     "name": "stdout",
     "output_type": "stream",
     "text": [
      "cuda\n"
     ]
    }
   ],
   "source": [
    "if torch.backends.mps.is_available():\n",
    "    device = torch.device(\"mps\")  # Apple Metal GPU\n",
    "elif torch.cuda.is_available():\n",
    "    device = torch.device(\"cuda\") # NVIDIA GPU (not typical on Mac)\n",
    "    print('cuda')\n",
    "else:\n",
    "    device = torch.device(\"cpu\")"
   ]
  },
  {
   "cell_type": "markdown",
   "id": "0ff8ab89-3e4f-4611-9761-4abbc708f71a",
   "metadata": {},
   "source": [
    "So, we have our data, we have our libraries imported and our ``device``set."
   ]
  },
  {
   "cell_type": "markdown",
   "id": "58cf6e5f-1ec1-4d26-a30a-799b7587daf6",
   "metadata": {},
   "source": [
    "We are going to be using a **ResNet** implementation. This means we are going to benefit from a model that has already been trained."
   ]
  },
  {
   "cell_type": "markdown",
   "id": "51421993-7785-432f-998a-da91689bd8fb",
   "metadata": {},
   "source": [
    "As a **rule of thumb for any pretrained model**:\n",
    "1. Check the model’s documentation for input size, normalization mean/std.: e.g., torchvision.models.alexnet → 224×224, ImageNet mean/std.\n",
    "2. Resize/crop your images to match the requirements\n",
    "3. Normalize with the same mean/std used for pretraining.\n",
    "4. Use data augmentation for training, but not for validation/testing."
   ]
  },
  {
   "cell_type": "markdown",
   "id": "4c84a6eb-48c8-4c52-9d1c-ee537d3c38fe",
   "metadata": {},
   "source": [
    "We are going to use ``ResNet18``"
   ]
  },
  {
   "cell_type": "markdown",
   "id": "9c84f13a-3dd6-444e-8ebc-1ca142f4ca2b",
   "metadata": {},
   "source": [
    "Go to the documentation page [here](https://docs.pytorch.org/vision/main/models/generated/torchvision.models.resnet18.html#torchvision.models.resnet18)"
   ]
  },
  {
   "attachments": {
    "8021bbb3-06c9-45c0-91f7-5302c4a27d6e.png": {
     "image/png": "[encoded data removed]"
    }
   },
   "cell_type": "markdown",
   "id": "a4891a44-e5d0-4157-b76c-55143a89cb81",
   "metadata": {},
   "source": [
    "![Captura de pantalla 2025-09-23 a las 15.12.43.png](attachment:8021bbb3-06c9-45c0-91f7-5302c4a27d6e.png)"
   ]
  },
  {
   "cell_type": "markdown",
   "id": "dc538369-7be7-453a-8f2f-48a5d4080cef",
   "metadata": {},
   "source": [
    "- We need to resize the image to 256. We can use ``Resize(256)`` \n",
    "- We need to crop the images to 224. We can use ``CenterCrop(224)`` or combine with cropping with ``RandomResizedCrop(224)`` (this would cover the data augmentation part)\n",
    "- Normalize the values using ``Normalize([0.485, 0.456, 0.406], [0.229, 0.224, 0.225])``"
   ]
  },
  {
   "cell_type": "markdown",
   "id": "ed6b6f71-03e9-44bd-87f7-6192d4058f52",
   "metadata": {},
   "source": [
    "#### Data loading and transformations"
   ]
  },
  {
   "cell_type": "code",
   "execution_count": null,
   "id": "d9d0bbda",
   "metadata": {},
   "outputs": [],
   "source": [
    "# we define the necessary transformations to be able to use the pre-trained CNN\n",
    "data_transforms = {'train': transforms.Compose([\n",
    "                            transforms.RandomResizedCrop(224), # for data augmentation\n",
    "                            transforms.RandomHorizontalFlip(), # for data augmentation\n",
    "                            transforms.ToTensor(),\n",
    "                            transforms.Normalize([0.485, 0.456, 0.406], [0.229, 0.224, 0.225])]),\n",
    "                   'val': transforms.Compose([\n",
    "                       transforms.Resize(256),\n",
    "                       transforms.CenterCrop(224),\n",
    "                       transforms.ToTensor(),\n",
    "                       transforms.Normalize([0.485, 0.456, 0.406], [0.229, 0.224, 0.225])]),}"
   ]
  },
  {
   "cell_type": "code",
   "execution_count": 42,
   "id": "cc65d059",
   "metadata": {},
   "outputs": [],
   "source": [
    "path_folder = 'hymenoptera_data'\n",
    "\n",
    "train_dataset = datasets.ImageFolder(root=os.path.join(path_folder, \"train\"),\n",
    "                                     transform=data_transforms['train'])\n",
    "val_dataset   = datasets.ImageFolder(root=os.path.join(path_folder, \"val\"),\n",
    "                                     transform=data_transforms['val'])\n",
    "\n",
    "batch_size = 4\n",
    "\n",
    "train_loader = DataLoader(dataset=train_dataset, batch_size=batch_size, shuffle=True, num_workers=4)\n",
    "val_loader   = DataLoader(dataset=val_dataset, batch_size=batch_size, shuffle=False, num_workers=4)\n"
   ]
  },
  {
   "cell_type": "code",
   "execution_count": 43,
   "id": "2bb6508b",
   "metadata": {},
   "outputs": [
    {
     "name": "stdout",
     "output_type": "stream",
     "text": [
      "Using cuda Device\n"
     ]
    }
   ],
   "source": [
    "train_size = len(train_dataset)\n",
    "val_size = len(val_dataset)\n",
    "\n",
    "dataset_sizes = {'train: ': train_size, 'val: ': val_size}\n",
    "class_names = train_dataset.classes\n",
    "\n",
    "# torchvision.models.resnet18()\n",
    "\n",
    "print(f'Using {device} Device')"
   ]
  },
  {
   "cell_type": "code",
   "execution_count": 44,
   "id": "f74bc66a",
   "metadata": {},
   "outputs": [],
   "source": [
    "def imshow(img, title=None):\n",
    "    img = img.numpy().transpose((1,2,0))\n",
    "    \n",
    "    mean = np.array([0.485, 0.456, 0.406])\n",
    "    std = np.array([0.229, 0.224, 0.225])\n",
    "    img = std * img + mean\n",
    "    img = np.clip(img, 0, 1)\n",
    "    plt.imshow(img)\n",
    "    if title is not None:\n",
    "        plt.title(title)\n",
    "    plt.pause(0.001)\n",
    "    \n",
    "    images, labels = next(iter(train_loader))\n",
    "    \n",
    "    imshow(torchvision.utils.make_grid(images), title=[class_names[x] for x in labels])"
   ]
  },
  {
   "cell_type": "code",
   "execution_count": 45,
   "id": "03abf641",
   "metadata": {},
   "outputs": [],
   "source": [
    "def train_model(model, criterion, optimizer, scheduler, num_epochs=10):\n",
    "    \n",
    "    since = time.time() # for time record purposes\n",
    "    \n",
    "    # we create a temporary directory to save training checkpoints\n",
    "    with TemporaryDirectory() as tempdir:\n",
    "        best_model_params_path = os.path.join(tempdir, 'best_model_params.pt')\n",
    "\n",
    "        torch.save(model.state_dict(), best_model_params_path) # save initial weights\n",
    "        best_acc = 0.0 # set to keep track of the best validation accuracy\n",
    "\n",
    "        for epoch in range(num_epochs):\n",
    "            print(f'Epoch {epoch}/{num_epochs - 1}') # for progress record purposes\n",
    "            print('-' * 10)\n",
    "\n",
    "            # each epoch will have a training and validation phase\n",
    "            for phase in ['train', 'val']:\n",
    "                if phase == 'train':\n",
    "                    model.train()  # Set model to training mode - here backpropagation happens\n",
    "                    dataloader = train_loader\n",
    "                else:\n",
    "                    model.eval()   # Set model to evaluate mode - the model is only evaluated, no learning\n",
    "                    dataloader = val_loader\n",
    "\n",
    "                running_loss = 0.0\n",
    "                running_corrects = 0\n",
    "\n",
    "                # Iterate over data - same as we always do\n",
    "                for inputs, labels in dataloader:\n",
    "                    # move data to GPU\n",
    "                    inputs = inputs.to(device)\n",
    "                    labels = labels.to(device)\n",
    "\n",
    "                    # zero the parameter gradients before starting backpropagation\n",
    "                    optimizer.zero_grad()\n",
    "\n",
    "                    # forward\n",
    "                    # track history if only in train\n",
    "                    with torch.set_grad_enabled(phase == 'train'):\n",
    "                        outputs = model(inputs)\n",
    "                        _, preds = torch.max(outputs, 1)\n",
    "                        loss = criterion(outputs, labels)\n",
    "\n",
    "                        # backward + optimize only if in training phase\n",
    "                        if phase == 'train':\n",
    "                            loss.backward()\n",
    "                            optimizer.step()\n",
    "\n",
    "                    # statistics: Track the total loss and number of correct predictions for the entire epoch\n",
    "                    running_loss += loss.item() * inputs.size(0)\n",
    "                    running_corrects += torch.sum(preds == labels.data)\n",
    "                if phase == 'train':\n",
    "                    scheduler.step() # adjust learning rate at the end of each epoch\n",
    "\n",
    "                # we calculate the average loss and accuracy over the whole dataset\n",
    "                epoch_loss = running_loss / dataset_sizes[phase]\n",
    "                epoch_acc = running_corrects.float() / dataset_sizes[phase]\n",
    "\n",
    "                print(f'{phase} Loss: {epoch_loss:.4f} Acc: {epoch_acc:.4f}')\n",
    "\n",
    "                # if we have the best validation so far, save the model's weights\n",
    "                if phase == 'val' and epoch_acc > best_acc:\n",
    "                    best_acc = epoch_acc\n",
    "                    torch.save(model.state_dict(), best_model_params_path)\n",
    "\n",
    "            print()\n",
    "        # summary of kpis and records\n",
    "        time_elapsed = time.time() - since\n",
    "        print(f'Training complete in {time_elapsed // 60:.0f}m {time_elapsed % 60:.0f}s')\n",
    "        print(f'Best val Acc: {best_acc:4f}')\n",
    "\n",
    "        # load best model weights\n",
    "        model.load_state_dict(torch.load(best_model_params_path, weights_only=True))\n",
    "    return model"
   ]
  },
  {
   "cell_type": "code",
   "execution_count": 46,
   "id": "3c258892",
   "metadata": {},
   "outputs": [],
   "source": [
    "def visualize_model(model, num_images=6):\n",
    "    # to store the current state of the model so we can restore it later\n",
    "    was_training = model.training\n",
    "    # change to evaluation mode\n",
    "    model.eval()\n",
    "    images_so_far = 0 # to keep track of the images we have plotted so far\n",
    "    fig = plt.figure()\n",
    "\n",
    "    with torch.no_grad(): # as we are not training \n",
    "        for i, (inputs, labels) in enumerate(val_loader):\n",
    "            # same approach as always\n",
    "            # data to gpu\n",
    "            inputs = inputs.to(device)\n",
    "            labels = labels.to(device)\n",
    "            # forward pass\n",
    "            outputs = model(inputs)\n",
    "            _, preds = torch.max(outputs, 1) # extract the predicted class (score and value)\n",
    "\n",
    "            # we starting looping over the images\n",
    "            for j in range(inputs.size()[0]):\n",
    "                images_so_far += 1\n",
    "                ax = plt.subplot(num_images//2, 2, images_so_far)\n",
    "                ax.axis('off')\n",
    "                ax.set_title(f'predicted: {class_names[preds[j]]}')\n",
    "                imshow(inputs.cpu().data[j])\n",
    "\n",
    "                if images_so_far == num_images: # stop when we reach to the desired number of images and restore model state\n",
    "                    model.train(mode=was_training)\n",
    "                    return\n",
    "        model.train(mode=was_training) # to make sure the state is always restored"
   ]
  },
  {
   "cell_type": "code",
   "execution_count": 47,
   "id": "69a8e1ed",
   "metadata": {},
   "outputs": [],
   "source": [
    "# load the model with the pretrained weights\n",
    "model_ft = models.resnet18(weights='IMAGENET1K_V1')\n",
    "\n",
    "# model_ft.fc is the final layer of the network\n",
    "num_ftrs = model_ft.fc.in_features\n",
    "# we need to replace this layer with the number of classes in our dataset"
   ]
  },
  {
   "cell_type": "code",
   "execution_count": 48,
   "id": "1edbcde4",
   "metadata": {},
   "outputs": [],
   "source": [
    "# We replace that layer with one valid for our target (the one used to train resnet is imagenet 1000 classes)\n",
    "model_ft.fc = nn.Linear(num_ftrs, 2) # this one will now output 2 classes: bees or ants\n",
    "# we could also generalize it using len(class_names))\n",
    "\n",
    "model_ft = model_ft.to(device) # as usual move the model to the gpu\n",
    "\n",
    "# define the loss function - again, as we are doing classification we'll use the cross entropy loss\n",
    "criterion = nn.CrossEntropyLoss()\n",
    "\n",
    "# and the optimizer. in this case a SGD - feel free to try other optimizers\n",
    "optimizer_ft = optim.SGD(model_ft.parameters(), lr=0.001, momentum=0.9) # we will optimize all parameters (so all the layers) with an initial lr of 0.001 \n",
    "\n",
    "# this scheduler reduces the lr by a factor of 0.1 every 7 epochs\n",
    "exp_lr_scheduler = lr_scheduler.StepLR(optimizer_ft, step_size=7, gamma=0.1)"
   ]
  },
  {
   "cell_type": "code",
   "execution_count": 49,
   "id": "e6fd3c3a",
   "metadata": {},
   "outputs": [
    {
     "name": "stdout",
     "output_type": "stream",
     "text": [
      "Epoch 0/23\n",
      "----------\n"
     ]
    },
    {
     "ename": "KeyError",
     "evalue": "'train'",
     "output_type": "error",
     "traceback": [
      "\u001b[31m---------------------------------------------------------------------------\u001b[39m",
      "\u001b[31mKeyError\u001b[39m                                  Traceback (most recent call last)",
      "\u001b[36mCell\u001b[39m\u001b[36m \u001b[39m\u001b[32mIn[49]\u001b[39m\u001b[32m, line 1\u001b[39m\n\u001b[32m----> \u001b[39m\u001b[32m1\u001b[39m model_ft = \u001b[43mtrain_model\u001b[49m\u001b[43m(\u001b[49m\u001b[43mmodel_ft\u001b[49m\u001b[43m,\u001b[49m\u001b[43m \u001b[49m\u001b[43mcriterion\u001b[49m\u001b[43m,\u001b[49m\u001b[43m \u001b[49m\u001b[43moptimizer_ft\u001b[49m\u001b[43m,\u001b[49m\u001b[43m \u001b[49m\u001b[43mexp_lr_scheduler\u001b[49m\u001b[43m,\u001b[49m\n\u001b[32m      2\u001b[39m \u001b[43m                       \u001b[49m\u001b[43mnum_epochs\u001b[49m\u001b[43m=\u001b[49m\u001b[32;43m24\u001b[39;49m\u001b[43m)\u001b[49m\n",
      "\u001b[36mCell\u001b[39m\u001b[36m \u001b[39m\u001b[32mIn[45]\u001b[39m\u001b[32m, line 56\u001b[39m, in \u001b[36mtrain_model\u001b[39m\u001b[34m(model, criterion, optimizer, scheduler, num_epochs)\u001b[39m\n\u001b[32m     53\u001b[39m     scheduler.step() \u001b[38;5;66;03m# adjust learning rate at the end of each epoch\u001b[39;00m\n\u001b[32m     55\u001b[39m \u001b[38;5;66;03m# we calculate the average loss and accuracy over the whole dataset\u001b[39;00m\n\u001b[32m---> \u001b[39m\u001b[32m56\u001b[39m epoch_loss = running_loss / \u001b[43mdataset_sizes\u001b[49m\u001b[43m[\u001b[49m\u001b[43mphase\u001b[49m\u001b[43m]\u001b[49m\n\u001b[32m     57\u001b[39m epoch_acc = running_corrects.float() / dataset_sizes[phase]\n\u001b[32m     59\u001b[39m \u001b[38;5;28mprint\u001b[39m(\u001b[33mf\u001b[39m\u001b[33m'\u001b[39m\u001b[38;5;132;01m{\u001b[39;00mphase\u001b[38;5;132;01m}\u001b[39;00m\u001b[33m Loss: \u001b[39m\u001b[38;5;132;01m{\u001b[39;00mepoch_loss\u001b[38;5;132;01m:\u001b[39;00m\u001b[33m.4f\u001b[39m\u001b[38;5;132;01m}\u001b[39;00m\u001b[33m Acc: \u001b[39m\u001b[38;5;132;01m{\u001b[39;00mepoch_acc\u001b[38;5;132;01m:\u001b[39;00m\u001b[33m.4f\u001b[39m\u001b[38;5;132;01m}\u001b[39;00m\u001b[33m'\u001b[39m)\n",
      "\u001b[31mKeyError\u001b[39m: 'train'"
     ]
    }
   ],
   "source": [
    "model_ft = train_model(model_ft, criterion, optimizer_ft, exp_lr_scheduler,\n",
    "                       num_epochs=24)"
   ]
  },
  {
   "cell_type": "code",
   "execution_count": null,
   "id": "7ed61831",
   "metadata": {},
   "outputs": [],
   "source": [
    "visualize_model(model_ft)"
   ]
  }
 ],
 "metadata": {
  "kernelspec": {
   "display_name": ".venv",
   "language": "python",
   "name": "python3"
  },
  "language_info": {
   "codemirror_mode": {
    "name": "ipython",
    "version": 3
   },
   "file_extension": ".py",
   "mimetype": "text/x-python",
   "name": "python",
   "nbconvert_exporter": "python",
   "pygments_lexer": "ipython3",
   "version": "3.12.3"
  }
 },
 "nbformat": 4,
 "nbformat_minor": 5
}
