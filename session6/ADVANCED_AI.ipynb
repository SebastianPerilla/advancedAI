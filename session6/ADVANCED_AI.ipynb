{
 "cells": [
  {
   "cell_type": "code",
   "execution_count": 2,
   "metadata": {},
   "outputs": [],
   "source": [
    "import torch\n",
    "import warnings\n",
    "warnings.filterwarnings('ignore')"
   ]
  },
  {
   "cell_type": "code",
   "execution_count": 3,
   "metadata": {},
   "outputs": [
    {
     "name": "stderr",
     "output_type": "stream",
     "text": [
      "Using cache found in /home/sebas/.cache/torch/hub/ultralytics_yolov5_master\n"
     ]
    }
   ],
   "source": [
    "model = torch.hub.load('ultralytics/yolov5', 'yolov5s', _verbose=False)\n",
    "\n",
    "img = \"images/detect_1.jpg\"\n"
   ]
  },
  {
   "cell_type": "code",
   "execution_count": 4,
   "metadata": {},
   "outputs": [
    {
     "data": {
      "application/vnd.microsoft.datawrangler.viewer.v0+json": {
       "columns": [
        {
         "name": "index",
         "rawType": "int64",
         "type": "integer"
        },
        {
         "name": "xmin",
         "rawType": "float64",
         "type": "float"
        },
        {
         "name": "ymin",
         "rawType": "float64",
         "type": "float"
        },
        {
         "name": "xmax",
         "rawType": "float64",
         "type": "float"
        },
        {
         "name": "ymax",
         "rawType": "float64",
         "type": "float"
        },
        {
         "name": "confidence",
         "rawType": "float64",
         "type": "float"
        },
        {
         "name": "class",
         "rawType": "int64",
         "type": "integer"
        },
        {
         "name": "name",
         "rawType": "object",
         "type": "string"
        }
       ],
       "ref": "6861a7eb-8937-4db2-a960-be3c9f5db074",
       "rows": [
        [
         "0",
         "159.10731506347656",
         "67.39900207519531",
         "378.934814453125",
         "330.19854736328125",
         "0.9072550535202026",
         "5",
         "bus"
        ],
        [
         "1",
         "368.6351623535156",
         "151.77957153320312",
         "496.9155578613281",
         "327.8526306152344",
         "0.8447694778442383",
         "5",
         "bus"
        ],
        [
         "2",
         "134.46400451660156",
         "209.43263244628906",
         "182.78274536132812",
         "366.26336669921875",
         "0.8250719904899597",
         "0",
         "person"
        ],
        [
         "3",
         "101.97390747070312",
         "213.19723510742188",
         "138.0328369140625",
         "346.9185791015625",
         "0.8211358785629272",
         "0",
         "person"
        ],
        [
         "4",
         "49.78157043457031",
         "225.62863159179688",
         "79.65069580078125",
         "320.50341796875",
         "0.7618464827537537",
         "0",
         "person"
        ],
        [
         "5",
         "314.43328857421875",
         "286.37469482421875",
         "354.5329895019531",
         "359.0827941894531",
         "0.7538540363311768",
         "1",
         "bicycle"
        ],
        [
         "6",
         "19.0270938873291",
         "225.31967163085938",
         "44.310298919677734",
         "292.4238586425781",
         "0.7405049204826355",
         "0",
         "person"
        ],
        [
         "7",
         "306.1019287109375",
         "237.18382263183594",
         "353.2801208496094",
         "351.4892578125",
         "0.6462395787239075",
         "0",
         "person"
        ],
        [
         "8",
         "466.99755859375",
         "163.70570373535156",
         "766.277099609375",
         "379.1420593261719",
         "0.6071226596832275",
         "2",
         "car"
        ],
        [
         "9",
         "99.53359985351562",
         "21.53692054748535",
         "150.7470703125",
         "132.08396911621094",
         "0.42350131273269653",
         "9",
         "traffic light"
        ],
        [
         "10",
         "36.877471923828125",
         "225.12484741210938",
         "55.584442138671875",
         "289.3626403808594",
         "0.3294958472251892",
         "0",
         "person"
        ]
       ],
       "shape": {
        "columns": 7,
        "rows": 11
       }
      },
      "text/html": [
       "<div>\n",
       "<style scoped>\n",
       "    .dataframe tbody tr th:only-of-type {\n",
       "        vertical-align: middle;\n",
       "    }\n",
       "\n",
       "    .dataframe tbody tr th {\n",
       "        vertical-align: top;\n",
       "    }\n",
       "\n",
       "    .dataframe thead th {\n",
       "        text-align: right;\n",
       "    }\n",
       "</style>\n",
       "<table border=\"1\" class=\"dataframe\">\n",
       "  <thead>\n",
       "    <tr style=\"text-align: right;\">\n",
       "      <th></th>\n",
       "      <th>xmin</th>\n",
       "      <th>ymin</th>\n",
       "      <th>xmax</th>\n",
       "      <th>ymax</th>\n",
       "      <th>confidence</th>\n",
       "      <th>class</th>\n",
       "      <th>name</th>\n",
       "    </tr>\n",
       "  </thead>\n",
       "  <tbody>\n",
       "    <tr>\n",
       "      <th>0</th>\n",
       "      <td>159.107315</td>\n",
       "      <td>67.399002</td>\n",
       "      <td>378.934814</td>\n",
       "      <td>330.198547</td>\n",
       "      <td>0.907255</td>\n",
       "      <td>5</td>\n",
       "      <td>bus</td>\n",
       "    </tr>\n",
       "    <tr>\n",
       "      <th>1</th>\n",
       "      <td>368.635162</td>\n",
       "      <td>151.779572</td>\n",
       "      <td>496.915558</td>\n",
       "      <td>327.852631</td>\n",
       "      <td>0.844769</td>\n",
       "      <td>5</td>\n",
       "      <td>bus</td>\n",
       "    </tr>\n",
       "    <tr>\n",
       "      <th>2</th>\n",
       "      <td>134.464005</td>\n",
       "      <td>209.432632</td>\n",
       "      <td>182.782745</td>\n",
       "      <td>366.263367</td>\n",
       "      <td>0.825072</td>\n",
       "      <td>0</td>\n",
       "      <td>person</td>\n",
       "    </tr>\n",
       "    <tr>\n",
       "      <th>3</th>\n",
       "      <td>101.973907</td>\n",
       "      <td>213.197235</td>\n",
       "      <td>138.032837</td>\n",
       "      <td>346.918579</td>\n",
       "      <td>0.821136</td>\n",
       "      <td>0</td>\n",
       "      <td>person</td>\n",
       "    </tr>\n",
       "    <tr>\n",
       "      <th>4</th>\n",
       "      <td>49.781570</td>\n",
       "      <td>225.628632</td>\n",
       "      <td>79.650696</td>\n",
       "      <td>320.503418</td>\n",
       "      <td>0.761846</td>\n",
       "      <td>0</td>\n",
       "      <td>person</td>\n",
       "    </tr>\n",
       "    <tr>\n",
       "      <th>5</th>\n",
       "      <td>314.433289</td>\n",
       "      <td>286.374695</td>\n",
       "      <td>354.532990</td>\n",
       "      <td>359.082794</td>\n",
       "      <td>0.753854</td>\n",
       "      <td>1</td>\n",
       "      <td>bicycle</td>\n",
       "    </tr>\n",
       "    <tr>\n",
       "      <th>6</th>\n",
       "      <td>19.027094</td>\n",
       "      <td>225.319672</td>\n",
       "      <td>44.310299</td>\n",
       "      <td>292.423859</td>\n",
       "      <td>0.740505</td>\n",
       "      <td>0</td>\n",
       "      <td>person</td>\n",
       "    </tr>\n",
       "    <tr>\n",
       "      <th>7</th>\n",
       "      <td>306.101929</td>\n",
       "      <td>237.183823</td>\n",
       "      <td>353.280121</td>\n",
       "      <td>351.489258</td>\n",
       "      <td>0.646240</td>\n",
       "      <td>0</td>\n",
       "      <td>person</td>\n",
       "    </tr>\n",
       "    <tr>\n",
       "      <th>8</th>\n",
       "      <td>466.997559</td>\n",
       "      <td>163.705704</td>\n",
       "      <td>766.277100</td>\n",
       "      <td>379.142059</td>\n",
       "      <td>0.607123</td>\n",
       "      <td>2</td>\n",
       "      <td>car</td>\n",
       "    </tr>\n",
       "    <tr>\n",
       "      <th>9</th>\n",
       "      <td>99.533600</td>\n",
       "      <td>21.536921</td>\n",
       "      <td>150.747070</td>\n",
       "      <td>132.083969</td>\n",
       "      <td>0.423501</td>\n",
       "      <td>9</td>\n",
       "      <td>traffic light</td>\n",
       "    </tr>\n",
       "    <tr>\n",
       "      <th>10</th>\n",
       "      <td>36.877472</td>\n",
       "      <td>225.124847</td>\n",
       "      <td>55.584442</td>\n",
       "      <td>289.362640</td>\n",
       "      <td>0.329496</td>\n",
       "      <td>0</td>\n",
       "      <td>person</td>\n",
       "    </tr>\n",
       "  </tbody>\n",
       "</table>\n",
       "</div>"
      ],
      "text/plain": [
       "          xmin        ymin        xmax        ymax  confidence  class  \\\n",
       "0   159.107315   67.399002  378.934814  330.198547    0.907255      5   \n",
       "1   368.635162  151.779572  496.915558  327.852631    0.844769      5   \n",
       "2   134.464005  209.432632  182.782745  366.263367    0.825072      0   \n",
       "3   101.973907  213.197235  138.032837  346.918579    0.821136      0   \n",
       "4    49.781570  225.628632   79.650696  320.503418    0.761846      0   \n",
       "5   314.433289  286.374695  354.532990  359.082794    0.753854      1   \n",
       "6    19.027094  225.319672   44.310299  292.423859    0.740505      0   \n",
       "7   306.101929  237.183823  353.280121  351.489258    0.646240      0   \n",
       "8   466.997559  163.705704  766.277100  379.142059    0.607123      2   \n",
       "9    99.533600   21.536921  150.747070  132.083969    0.423501      9   \n",
       "10   36.877472  225.124847   55.584442  289.362640    0.329496      0   \n",
       "\n",
       "             name  \n",
       "0             bus  \n",
       "1             bus  \n",
       "2          person  \n",
       "3          person  \n",
       "4          person  \n",
       "5         bicycle  \n",
       "6          person  \n",
       "7          person  \n",
       "8             car  \n",
       "9   traffic light  \n",
       "10         person  "
      ]
     },
     "execution_count": 4,
     "metadata": {},
     "output_type": "execute_result"
    }
   ],
   "source": [
    "results = model(img)\n",
    "results.pandas().xyxy[0]\n"
   ]
  },
  {
   "cell_type": "code",
   "execution_count": null,
   "metadata": {},
   "outputs": [],
   "source": []
  }
 ],
 "metadata": {
  "kernelspec": {
   "display_name": "yolo",
   "language": "python",
   "name": "python3"
  },
  "language_info": {
   "codemirror_mode": {
    "name": "ipython",
    "version": 3
   },
   "file_extension": ".py",
   "mimetype": "text/x-python",
   "name": "python",
   "nbconvert_exporter": "python",
   "pygments_lexer": "ipython3",
   "version": "3.10.18"
  }
 },
 "nbformat": 4,
 "nbformat_minor": 2
}
